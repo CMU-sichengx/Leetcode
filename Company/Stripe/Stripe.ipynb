{
 "cells": [
  {
   "cell_type": "markdown",
   "metadata": {},
   "source": [
    "### 3\n",
    " - suffix是否一定是最后一个逗号后面的, 如果是的话并不需要知道suffix具体可以使哪些\n",
    " - Leading是只考虑第一个还是要考虑多个\n",
    " - Leading是否必须是独立的space separated单词"
   ]
  },
  {
   "cell_type": "code",
   "execution_count": 19,
   "metadata": {},
   "outputs": [
    {
     "name": "stdout",
     "output_type": "stream",
     "text": [
      "llama industries |\n",
      "llama industries |\n",
      "llama industries |\n",
      "llama industries|\n",
      "llama industries |\n",
      "llama industries |\n",
      "llama industries |\n",
      "and the llama industries |\n"
     ]
    }
   ],
   "source": [
    "def normalize(name):\n",
    "    # capitalization\n",
    "    name = name.lower()\n",
    "\n",
    "    # company suffix\n",
    "    for suffix in [\"inc.\", \"corp.\", \"llc\", \"l.l.c.\", \"llc.\"]:\n",
    "        if name.endswith(suffix):\n",
    "            name = name[ : -len(suffix)]\n",
    "            break\n",
    "    \n",
    "    # compress & and , and compress space\n",
    "    newName = \"\" \n",
    "    i = 0\n",
    "    while i < len(name):\n",
    "        if name[i] in (' ', '&', ','):\n",
    "            newName += ' '\n",
    "            while i < len(name) and name[i] in (' ', '&', ','):\n",
    "                i += 1\n",
    "        else:\n",
    "            newName += name[i]    \n",
    "            i += 1\n",
    "    name = newName\n",
    "\n",
    "    # split name into individual words\n",
    "    if not name or name.isspace(): return \"\"\n",
    "    words = name.split(' ')\n",
    "    if not words: return \"\"\n",
    "\n",
    "    # leading the, an, a\n",
    "    leadRemoved = words[0] in ('the', 'an', 'a')\n",
    "    if leadRemoved:\n",
    "        words = words[1:]\n",
    "\n",
    "    # and\n",
    "    newWords = []\n",
    "    for i, word in enumerate(words):\n",
    "        if word == 'and':\n",
    "            if i > 0: \n",
    "                continue\n",
    "            if i == 0 and leadRemoved: \n",
    "                continue\n",
    "        newWords.append(word)\n",
    "    \n",
    "    # check availability\n",
    "    name = ' '.join(newWords)\n",
    "    return name\n",
    "\n",
    "\n",
    "def checkAvailability(reqs):\n",
    "    cache = set()   # set of occupied names\n",
    "\n",
    "    for req in reqs:\n",
    "        div = req.find('|')\n",
    "        account = req[ : div]\n",
    "        reqName = normalize(req[div+1 : ])\n",
    "\n",
    "        if not reqName or reqName.isspace() or reqName in cache:\n",
    "            print(account + \"|Name Not Available\")\n",
    "        else:\n",
    "            print(account + \"|Name Available\")\n",
    "            cache.add(reqName)\n",
    "\n",
    "\n",
    "def test():\n",
    "    print(normalize(\"Llama Industries, Inc.\") + '|')\n",
    "    print(normalize(\"Llama,& Industries, &&& Inc.\") + '|')\n",
    "    print(normalize(\"LLAMA   INDUSTRIES      \") + '|')\n",
    "    print(normalize(\"LLAMA   INDUSTRIES\") + '|')\n",
    "    print(normalize(\"the llama and Industries and inc.\") + '|')\n",
    "    print(normalize(\"Llama Industries, Inc.\") + '|')\n",
    "    print(normalize(\"The and , and Llama, Industries, Inc.\") + '|')\n",
    "    print(normalize(\"and The Llama, Industries, Inc.\") + '|')\n",
    "\n",
    "test()"
   ]
  }
 ],
 "metadata": {
  "kernelspec": {
   "display_name": "Python 3.10.2 64-bit",
   "language": "python",
   "name": "python3"
  },
  "language_info": {
   "codemirror_mode": {
    "name": "ipython",
    "version": 3
   },
   "file_extension": ".py",
   "mimetype": "text/x-python",
   "name": "python",
   "nbconvert_exporter": "python",
   "pygments_lexer": "ipython3",
   "version": "3.10.2"
  },
  "orig_nbformat": 4,
  "vscode": {
   "interpreter": {
    "hash": "aee8b7b246df8f9039afb4144a1f6fd8d2ca17a180786b69acc140d282b71a49"
   }
  }
 },
 "nbformat": 4,
 "nbformat_minor": 2
}
