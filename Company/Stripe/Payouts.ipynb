{
 "cells": [
  {
   "cell_type": "markdown",
   "metadata": {},
   "source": [
    "# Part One \n",
    "\n",
    "1. Store the exchange rates in a hash table: key is the currency, value is the exchange rate (float type). Note that for USD, it should be 1\n",
    "\n",
    "2. Convert the bank_account_currencies array into a set + get the default bank account\n",
    "\n",
    "3. Create a hash table: key is the currency, value is the final payout amount (float type). \n",
    "\n",
    "4. Loop through the charges:\n",
    "\n",
    "a. Split the string via \",\" to extract the currency and transaction amount (int type)\n",
    "\n",
    "b. Check if the currency is in the set:\n",
    "\n",
    "If in: Add amount * 0.98 to that hash table where key is the current currency\n",
    "\n",
    "Else: Convert the amount * 0.98 to the default currency amount: Convert to USD first by multiplying the value in the exchange rate hash table; Convert USD to the default currency by dividing the value in the exchange rate hash table; Add that final amount to the hash table where key is the default account currency\n",
    "\n",
    "5. Get the keys of the hash table; Sort based on alphabetical order; Print the currency and the amount (round!)"
   ]
  },
  {
   "cell_type": "code",
   "execution_count": 1,
   "metadata": {},
   "outputs": [
    {
     "name": "stdout",
     "output_type": "stream",
     "text": [
      "CHF,196\n",
      "USD,397\n",
      "CHF,196\n",
      "GBP,8\n"
     ]
    }
   ],
   "source": [
    "import collections\n",
    "\n",
    "# Implementation\n",
    "def calculate_payouts(bank_account_currencies, charges):\n",
    "    exchange_rates = {\"CHF\": 0.97, \"EUR\": 1.05, \"GBP\": 1.24, \"USD\": 1.0}\n",
    "    bank_accounts = set(bank_account_currencies)\n",
    "    default_account = bank_account_currencies[0]\n",
    "    final_payouts = collections.defaultdict(float)\n",
    "\n",
    "    for charge in charges:\n",
    "        currency = charge.split(\",\")[2]\n",
    "        amount = float(charge.split(\",\")[1])\n",
    "\n",
    "        if currency in bank_accounts:\n",
    "            final_payouts[currency] += amount * 0.98\n",
    "\n",
    "        else:\n",
    "            convert_amount = amount * 0.98 * exchange_rates[currency] / exchange_rates[default_account]\n",
    "            final_payouts[default_account] += convert_amount\n",
    "\n",
    "    all_currencies = list(final_payouts.keys())\n",
    "    all_currencies.sort()\n",
    "\n",
    "    for currency in all_currencies:\n",
    "        print(str(currency) + \",\" + str(round(final_payouts[currency])))\n",
    "\n",
    "# Test\n",
    "bank1 = [\"USD\", \"CHF\"]\n",
    "charge1 = [\"2022-01-01,100,USD\", \"2022-01-01,200,USD\", \"2022-01-01,200,CHF\", \"2022-01-01,100,EUR\"]\n",
    "calculate_payouts(bank1, charge1)\n",
    "\n",
    "bank2 = [\"GBP\", \"CHF\"]\n",
    "charge2 = [\"2022-01-01,200,CHF\", \"2022-01-01,10,EUR\"]\n",
    "calculate_payouts(bank2, charge2)"
   ]
  },
  {
   "cell_type": "markdown",
   "metadata": {},
   "source": [
    "# Part Two\n",
    "\n",
    "1. Store all the payout schedules in a hash table: key is the currency, value is the number of days (int type);\n",
    "Store the exchange rates in a hash table: key is the currency, value is the exchange rate (float type). Note that for USD, it should be 1\n",
    "\n",
    "2. Convert the bank_account_currencies array into a set + get the default bank account\n",
    "\n",
    "3. Create a hash table: key is the final date + currency (tuple type), value is the payout amount (float type)\n",
    "\n",
    "4. Loop through the charges:\n",
    "\n",
    "a. Split the string via \",\" to extract the date, the currency and transaction amount (int type)\n",
    "\n",
    "b. Check if the currency is in the set:\n",
    "\n",
    "If in: Calculate the amount * 0.98 to be the transaction amount; Calculate the final date using timedelta (see below for details); Store this transaction amount into the hash table where key is the current currency + final date\n",
    "\n",
    "Else: Convert the amount * 0.98 to the default currency amount: Convert to USD first by multiplying the value in the exchange rate hash table; Convert USD to the default currency by dividing the value in the exchange rate hash table; Store this transaction amount into the hash table where key is the default account currency + final date\n",
    "\n",
    "5. Get the keys of the hash table; Sort the key list; Print the date, currency and the amount (round!)"
   ]
  },
  {
   "cell_type": "code",
   "execution_count": 19,
   "metadata": {},
   "outputs": [
    {
     "name": "stdout",
     "output_type": "stream",
     "text": [
      "2022-01-01,USD,397\n",
      "2022-01-04,CHF,196\n",
      "2022-01-01,USD,98\n",
      "2022-01-04,CHF,196\n",
      "2022-01-04,USD,98\n",
      "2022-01-01,USD,444\n",
      "2022-01-04,CHF,196\n",
      "2022-01-01,USD,201\n",
      "2022-01-03,USD,243\n",
      "2022-01-04,CHF,196\n"
     ]
    }
   ],
   "source": [
    "import collections\n",
    "from datetime import datetime, timedelta\n",
    "\n",
    "# Implementation\n",
    "def calculate_payouts(bank_account_currencies, charges):\n",
    "    exchange_rates = {\"CHF\": 0.97, \"EUR\": 1.05, \"GBP\": 1.24, \"USD\": 1.0}\n",
    "    payout_schedules = {\"CHF\": 3, \"EUR\": 2, \"GBP\": 1, \"USD\": 0}\n",
    "    \n",
    "    bank_accounts = set(bank_account_currencies)\n",
    "    default_account = bank_account_currencies[0]\n",
    "    final_payouts = collections.defaultdict(float)\n",
    "\n",
    "    for charge in charges:\n",
    "        currency = charge.split(\",\")[2]\n",
    "        amount = float(charge.split(\",\")[1])\n",
    "        time = datetime.strptime(charge.split(\",\")[0], \"%Y-%m-%d\")\n",
    "\n",
    "        if currency in bank_accounts:\n",
    "            transaction_amount = amount * 0.98\n",
    "            new_date = str(time + timedelta(days = payout_schedules[currency]))\n",
    "            final_date = new_date[ : 10]\n",
    "            final_key = (final_date, currency)\n",
    "            final_payouts[final_key] += transaction_amount\n",
    "\n",
    "        else:\n",
    "            convert_amount = amount * 0.98 * exchange_rates[currency] / exchange_rates[default_account]\n",
    "            new_date = str(time + timedelta(days = payout_schedules[default_account]))\n",
    "            final_date = new_date[ : 10]\n",
    "            final_key = (final_date, default_account)\n",
    "            final_payouts[final_key] += convert_amount\n",
    "\n",
    "    all_currencies = list(final_payouts.keys())\n",
    "    all_currencies.sort()\n",
    "\n",
    "    for (date, currency) in all_currencies:\n",
    "        print(str(date) + \",\" + str(currency) + \",\" + str(round(final_payouts[(date, currency)])))\n",
    "\n",
    "# Test\n",
    "bank1 = [\"USD\", \"CHF\"]\n",
    "charge1 = [\"2022-01-01,100,USD\", \"2022-01-01,200,USD\", \"2022-01-01,200,CHF\", \"2022-01-01,100,EUR\"]\n",
    "calculate_payouts(bank1, charge1)\n",
    "\n",
    "bank2 = [\"USD\", \"CHF\"]\n",
    "charge2 = [\"2022-01-01,100,USD\", \"2022-01-01,200,CHF\", \"2022-01-04,100,USD\"]\n",
    "calculate_payouts(bank2, charge2)\n",
    "\n",
    "bank3 = [\"USD\", \"CHF\"]\n",
    "charge3 = [\"2022-01-01,100,USD\", \"2022-01-01,200,GBP\", \"2022-01-01,200,CHF\", \"2022-01-01,100,EUR\"]\n",
    "calculate_payouts(bank3, charge3)\n",
    "\n",
    "bank4 = [\"USD\", \"CHF\"]\n",
    "charge4 = [\"2022-01-01,100,USD\", \"2022-01-01,200,CHF\", \"2022-01-01,100,EUR\", \"2022-01-03,200,GBP\"]\n",
    "calculate_payouts(bank4, charge4)"
   ]
  }
 ],
 "metadata": {
  "kernelspec": {
   "display_name": "Python 3.10.0 64-bit",
   "language": "python",
   "name": "python3"
  },
  "language_info": {
   "codemirror_mode": {
    "name": "ipython",
    "version": 3
   },
   "file_extension": ".py",
   "mimetype": "text/x-python",
   "name": "python",
   "nbconvert_exporter": "python",
   "pygments_lexer": "ipython3",
   "version": "3.10.2"
  },
  "orig_nbformat": 4,
  "vscode": {
   "interpreter": {
    "hash": "aee8b7b246df8f9039afb4144a1f6fd8d2ca17a180786b69acc140d282b71a49"
   }
  }
 },
 "nbformat": 4,
 "nbformat_minor": 2
}
