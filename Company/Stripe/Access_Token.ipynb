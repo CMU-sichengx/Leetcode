{
 "cells": [
  {
   "cell_type": "markdown",
   "metadata": {},
   "source": [
    "# Part One\n",
    "\n",
    "1. Create two lists for all products: one with two normal read permissions, and another with three normal write permissions\n",
    "\n",
    "2. Create two lists for payments specifically: one with two special read permissions, and another with four special write permissions\n",
    "\n",
    "3. Create a list containing all the products\n",
    "\n",
    "4. Create a hash table: key is each role, value is the valid permissions of that role (list type)\n",
    "\n",
    "For role admin: Loop through all the four lists to get all the permissions AND all the products!\n",
    "\n",
    "For role admin_readonly: Loop through the two lists related to read permissions AND all the products!\n",
    "\n",
    "For role payments: Loop through all four lists \n",
    "\n",
    "For all the other roles: Loop through two normal lists\n",
    "\n",
    "5. Create a set that will contain all the valid permissions\n",
    "\n",
    "6. Loop through each role: Add all the permissions based on the hash table into that set\n",
    "\n",
    "7. Convert the set to the list; Sort based on alphabetical order; Print out each permission"
   ]
  },
  {
   "cell_type": "code",
   "execution_count": 1,
   "metadata": {},
   "outputs": [
    {
     "name": "stdout",
     "output_type": "stream",
     "text": [
      "capital.confirm_intent capital.create_intent capital.read_intent capital.read_settings capital.write_settings\n",
      "banking.read_intent banking.read_settings capital.read_intent capital.read_settings climate.read_intent climate.read_settings identity.read_intent identity.read_settings payments.cancel_refund payments.confirm_intent payments.create_dispute payments.create_intent payments.create_refund payments.read_dispute payments.read_intent payments.read_refund payments.read_settings payments.update_dispute payments.write_settings\n",
      "banking.confirm_intent banking.create_intent banking.read_intent banking.read_settings banking.write_settings capital.confirm_intent capital.create_intent capital.read_intent capital.read_settings capital.write_settings climate.confirm_intent climate.create_intent climate.read_intent climate.read_settings climate.write_settings identity.confirm_intent identity.create_intent identity.read_intent identity.read_settings identity.write_settings payments.cancel_refund payments.confirm_intent payments.create_dispute payments.create_intent payments.create_refund payments.read_dispute payments.read_intent payments.read_refund payments.read_settings payments.update_dispute payments.write_settings\n"
     ]
    }
   ],
   "source": [
    "import collections\n",
    "\n",
    "def access_token(roles):\n",
    "    normal_reads = [\"read_settings\", \"read_intent\"]\n",
    "    normal_writes = [\"write_settings\", \"create_intent\", \"confirm_intent\"]\n",
    "\n",
    "    special_reads = [\"read_dispute\", \"read_refund\"]\n",
    "    special_writes = [\"update_dispute\", \"create_dispute\", \"create_refund\", \"cancel_refund\"]\n",
    "\n",
    "    all_products = [\"payments\", \"banking\", \"identity\", \"climate\", \"capital\"]\n",
    "    \n",
    "    permission_table = collections.defaultdict(list)\n",
    "    \n",
    "    normal_permission_list = normal_reads + normal_writes\n",
    "    special_permission_list = special_reads + special_writes\n",
    "\n",
    "    for permission in normal_permission_list:\n",
    "        for product in all_products:\n",
    "            permission_table[product].append(product + \".\" + permission)\n",
    "    \n",
    "    for permission in special_permission_list:\n",
    "        permission_table[\"payments\"].append(\"payments.\" + permission)\n",
    "\n",
    "    for permission in normal_reads:\n",
    "        for product in all_products:\n",
    "            permission_table[\"admin_readonly\"].append(product + \".\" + permission)\n",
    "\n",
    "    for permission in special_reads:\n",
    "        permission_table[\"admin_readonly\"].append(\"payments.\" + permission)\n",
    "    \n",
    "    all_permission_list = []\n",
    "    for product in all_products:\n",
    "        all_permission_list += permission_table[product]\n",
    "    permission_table[\"admin\"] = all_permission_list\n",
    "\n",
    "    res_set = set()\n",
    "    for role in roles:\n",
    "        permission_list = permission_table[role]\n",
    "        for permission in permission_list:\n",
    "            res_set.add(permission)\n",
    "    \n",
    "    res_list = list(res_set)\n",
    "    res_list.sort()\n",
    "    print(*res_list)\n",
    "\n",
    "# Test\n",
    "roles1 = [\"capital\"]\n",
    "access_token(roles1)\n",
    "\n",
    "roles2 = [\"admin_readonly\", \"payments\"]\n",
    "access_token(roles2)\n",
    "\n",
    "roles3 = [\"admin\"]\n",
    "access_token(roles3)"
   ]
  },
  {
   "cell_type": "markdown",
   "metadata": {},
   "source": [
    "# Part Two\n",
    "\n",
    "1. Get the full permission list in alphabetical order\n",
    "\n",
    "2. Generate the res_set in part one\n",
    "\n",
    "3. For each permission in that full permission list: Check if the permission is in res_set, if yes, 1; else, 0"
   ]
  },
  {
   "cell_type": "code",
   "execution_count": 2,
   "metadata": {},
   "outputs": [
    {
     "name": "stdout",
     "output_type": "stream",
     "text": [
      "0000011111000000000000000000000\n",
      "0011000110001100011011111111111\n",
      "1111111111111111111111111111111\n"
     ]
    }
   ],
   "source": [
    "import collections\n",
    "\n",
    "def access_token(roles):\n",
    "    normal_reads = [\"read_settings\", \"read_intent\"]\n",
    "    normal_writes = [\"write_settings\", \"create_intent\", \"confirm_intent\"]\n",
    "\n",
    "    special_reads = [\"read_dispute\", \"read_refund\"]\n",
    "    special_writes = [\"update_dispute\", \"create_dispute\", \"create_refund\", \"cancel_refund\"]\n",
    "\n",
    "    all_products = [\"payments\", \"banking\", \"identity\", \"climate\", \"capital\"]\n",
    "    \n",
    "    permission_table = collections.defaultdict(list)\n",
    "    \n",
    "    normal_permission_list = normal_reads + normal_writes\n",
    "    special_permission_list = special_reads + special_writes\n",
    "\n",
    "    for permission in normal_permission_list:\n",
    "        for product in all_products:\n",
    "            permission_table[product].append(product + \".\" + permission)\n",
    "    \n",
    "    for permission in special_permission_list:\n",
    "        permission_table[\"payments\"].append(\"payments.\" + permission)\n",
    "\n",
    "    for permission in normal_reads:\n",
    "        for product in all_products:\n",
    "            permission_table[\"admin_readonly\"].append(product + \".\" + permission)\n",
    "\n",
    "    for permission in special_reads:\n",
    "        permission_table[\"admin_readonly\"].append(\"payments.\" + permission)\n",
    "    \n",
    "    all_permission_list = []\n",
    "    for product in all_products:\n",
    "        all_permission_list += permission_table[product]\n",
    "    permission_table[\"admin\"] = all_permission_list\n",
    "\n",
    "    res_set = set()\n",
    "    for role in roles:\n",
    "        permission_list = permission_table[role]\n",
    "        for permission in permission_list:\n",
    "            res_set.add(permission)\n",
    "    \n",
    "    all_permission_list.sort()\n",
    "    encoded_string = \"\"\n",
    "    for permission in all_permission_list:\n",
    "        if permission in res_set:\n",
    "            encoded_string += \"1\"\n",
    "        else:\n",
    "            encoded_string += \"0\"\n",
    "\n",
    "    print(encoded_string)\n",
    "\n",
    "# Test\n",
    "roles1 = [\"capital\"]\n",
    "access_token(roles1)\n",
    "\n",
    "roles2 = [\"admin_readonly\", \"payments\"]\n",
    "access_token(roles2)\n",
    "\n",
    "roles3 = [\"admin\"]\n",
    "access_token(roles3)"
   ]
  }
 ],
 "metadata": {
  "kernelspec": {
   "display_name": "Python 3.10.0 64-bit",
   "language": "python",
   "name": "python3"
  },
  "language_info": {
   "codemirror_mode": {
    "name": "ipython",
    "version": 3
   },
   "file_extension": ".py",
   "mimetype": "text/x-python",
   "name": "python",
   "nbconvert_exporter": "python",
   "pygments_lexer": "ipython3",
   "version": "3.10.2"
  },
  "orig_nbformat": 4,
  "vscode": {
   "interpreter": {
    "hash": "aee8b7b246df8f9039afb4144a1f6fd8d2ca17a180786b69acc140d282b71a49"
   }
  }
 },
 "nbformat": 4,
 "nbformat_minor": 2
}
