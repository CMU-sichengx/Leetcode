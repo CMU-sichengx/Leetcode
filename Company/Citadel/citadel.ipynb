{
 "cells": [
  {
   "cell_type": "markdown",
   "metadata": {},
   "source": [
    "### 910 Smallest Range II\n",
    "> 思路 First sort the arry.Simplify the problem: the indeces that `+k` and the indeces range that `-k` are continous like `+ + + + + - - - - ` in order to minimize the range. Loop through all such division points, each only takes a constant  to compute the `range gap`.\n",
    "- Reason ![image](/imgs/910.jpg)"
   ]
  },
  {
   "cell_type": "code",
   "execution_count": 2,
   "metadata": {},
   "outputs": [
    {
     "ename": "NameError",
     "evalue": "name 'List' is not defined",
     "output_type": "error",
     "traceback": [
      "\u001b[0;31m---------------------------------------------------------------------------\u001b[0m",
      "\u001b[0;31mNameError\u001b[0m                                 Traceback (most recent call last)",
      "\u001b[1;32m/Users/xingsicheng/Desktop/Leetcode/Company/Citadel/citadel.ipynb Cell 2\u001b[0m in \u001b[0;36m<module>\u001b[0;34m\u001b[0m\n\u001b[0;32m----> <a href='vscode-notebook-cell:/Users/xingsicheng/Desktop/Leetcode/Company/Citadel/citadel.ipynb#W2sZmlsZQ%3D%3D?line=0'>1</a>\u001b[0m \u001b[39mclass\u001b[39;00m \u001b[39mSolution\u001b[39;00m:\n\u001b[1;32m      <a href='vscode-notebook-cell:/Users/xingsicheng/Desktop/Leetcode/Company/Citadel/citadel.ipynb#W2sZmlsZQ%3D%3D?line=1'>2</a>\u001b[0m     \u001b[39mdef\u001b[39;00m \u001b[39msmallestRangeII\u001b[39m(\u001b[39mself\u001b[39m, nums: List[\u001b[39mint\u001b[39m], k: \u001b[39mint\u001b[39m) \u001b[39m-\u001b[39m\u001b[39m>\u001b[39m \u001b[39mint\u001b[39m:\n\u001b[1;32m      <a href='vscode-notebook-cell:/Users/xingsicheng/Desktop/Leetcode/Company/Citadel/citadel.ipynb#W2sZmlsZQ%3D%3D?line=2'>3</a>\u001b[0m         \u001b[39m# degenerate case\u001b[39;00m\n\u001b[1;32m      <a href='vscode-notebook-cell:/Users/xingsicheng/Desktop/Leetcode/Company/Citadel/citadel.ipynb#W2sZmlsZQ%3D%3D?line=3'>4</a>\u001b[0m         n \u001b[39m=\u001b[39m \u001b[39mlen\u001b[39m(nums)\n",
      "\u001b[1;32m/Users/xingsicheng/Desktop/Leetcode/Company/Citadel/citadel.ipynb Cell 2\u001b[0m in \u001b[0;36mSolution\u001b[0;34m()\u001b[0m\n\u001b[1;32m      <a href='vscode-notebook-cell:/Users/xingsicheng/Desktop/Leetcode/Company/Citadel/citadel.ipynb#W2sZmlsZQ%3D%3D?line=0'>1</a>\u001b[0m \u001b[39mclass\u001b[39;00m \u001b[39mSolution\u001b[39;00m:\n\u001b[0;32m----> <a href='vscode-notebook-cell:/Users/xingsicheng/Desktop/Leetcode/Company/Citadel/citadel.ipynb#W2sZmlsZQ%3D%3D?line=1'>2</a>\u001b[0m     \u001b[39mdef\u001b[39;00m \u001b[39msmallestRangeII\u001b[39m(\u001b[39mself\u001b[39m, nums: List[\u001b[39mint\u001b[39m], k: \u001b[39mint\u001b[39m) \u001b[39m-\u001b[39m\u001b[39m>\u001b[39m \u001b[39mint\u001b[39m:\n\u001b[1;32m      <a href='vscode-notebook-cell:/Users/xingsicheng/Desktop/Leetcode/Company/Citadel/citadel.ipynb#W2sZmlsZQ%3D%3D?line=2'>3</a>\u001b[0m         \u001b[39m# degenerate case\u001b[39;00m\n\u001b[1;32m      <a href='vscode-notebook-cell:/Users/xingsicheng/Desktop/Leetcode/Company/Citadel/citadel.ipynb#W2sZmlsZQ%3D%3D?line=3'>4</a>\u001b[0m         n \u001b[39m=\u001b[39m \u001b[39mlen\u001b[39m(nums)\n\u001b[1;32m      <a href='vscode-notebook-cell:/Users/xingsicheng/Desktop/Leetcode/Company/Citadel/citadel.ipynb#W2sZmlsZQ%3D%3D?line=4'>5</a>\u001b[0m         \u001b[39mif\u001b[39;00m n \u001b[39m==\u001b[39m \u001b[39m1\u001b[39m: \u001b[39mreturn\u001b[39;00m \u001b[39m0\u001b[39m\n",
      "\u001b[0;31mNameError\u001b[0m: name 'List' is not defined"
     ]
    }
   ],
   "source": [
    "class Solution:\n",
    "    def smallestRangeII(self, nums: List[int], k: int) -> int:\n",
    "        # degenerate case\n",
    "        n = len(nums)\n",
    "        if n == 1: return 0\n",
    "        \n",
    "        # sort the numbers\n",
    "        nums.sort()\n",
    "        \n",
    "        bestRange = nums[n-1] - nums[0]\n",
    "        # mid is the point between [i] and [i+1] such that every index to the left  +k\n",
    "        #                                                  every index to the right -k   \n",
    "        for mid in range(len(nums) - 1):\n",
    "            # the possible upperbound of the range\n",
    "            hi = max(nums[n-1] - k, nums[mid] + k)\n",
    "            lo = min(nums[0] + k, nums[mid+1] - k)\n",
    "            bestRange = min(bestRange, hi - lo)\n",
    "        \n",
    "        return bestRange"
   ]
  },
  {
   "cell_type": "markdown",
   "metadata": {},
   "source": [
    "### 370 Range Addition\n",
    " > 思路 for each update `start, end, delta`, do the following (1) `arr[start] += delta` (2) `arr[end+1] -= delta`. In this way, after we do a `prefixSum` of the arr, the indices range `start, end` will be propagated with the change `+delta`, and the range `end+1, ...` will be propagate with both `+delta` and `-delta`, which cancels each other \n"
   ]
  },
  {
   "cell_type": "code",
   "execution_count": null,
   "metadata": {},
   "outputs": [],
   "source": [
    "class Solution:\n",
    "    def getModifiedArray(self, length: int, updates: List[List[int]]) -> List[int]:\n",
    "        arr = [0] * length\n",
    "        for start, end, change in updates:\n",
    "            arr[start] += change\n",
    "            if end + 1 < length: arr[end + 1] -= change\n",
    "        \n",
    "        for i in range(1, length):\n",
    "            arr[i] += arr[i-1]\n",
    "        \n",
    "        return arr"
   ]
  },
  {
   "cell_type": "markdown",
   "metadata": {},
   "source": [
    "### 974 Subarray Sums Divisible by K\n",
    "> 思路 : map the `(prefixSum mod k)` to `(the number of prefixes)`. Iterate through the array, keeping track of the prefix sum mod `k` so far. Consider the prefix `[0, 1, ..., i]`, for every prefix `[0, 1, ..., j]` of this prefix with the same `prefixSum mod k` value, `[j+1, ..., i]` will be a subarray divisible by `k`.\n",
    "- Note: the default value for modulus `0` is `1` !"
   ]
  },
  {
   "cell_type": "code",
   "execution_count": null,
   "metadata": {},
   "outputs": [],
   "source": [
    "class Solution:\n",
    "    def subarraysDivByK(self, nums: List[int], k: int) -> int:\n",
    "        numPrefixByRemainder = defaultdict(int) # map remainder to the number of such prefixes iterate so far\n",
    "        numPrefixByRemainder[0] = 1\n",
    "        res = 0\n",
    "        \n",
    "        prefixSum = 0\n",
    "        for num in nums:\n",
    "            prefixSum = (prefixSum + num) % k\n",
    "            if prefixSum < 0: prefixSum += k\n",
    "            \n",
    "            # for each previous prefix whose sum has the same remainder, it can constitute a subarray divisible by k\n",
    "            res += numPrefixByRemainder[prefixSum]\n",
    "            \n",
    "            numPrefixByRemainder[prefixSum] += 1\n",
    "        \n",
    "        return res"
   ]
  },
  {
   "cell_type": "markdown",
   "metadata": {},
   "source": [
    "### Hacker Rank Check Even Strings\n",
    " - `Addition` by an even number does not decide parity/\n",
    " - `Addition` by an odd number decides via: \n",
    "  - `odd` many `odd numbers` => old\n",
    "  - `even` manu `odd numbers` => even number\n",
    " - Exponentiation \n",
    "  - expo = 0 => always 1 => odd\n",
    "  - expo > 0 => exponentiation does not change parity => determined by the parity of the base"
   ]
  },
  {
   "cell_type": "code",
   "execution_count": null,
   "metadata": {},
   "outputs": [],
   "source": [
    "from asyncio import events\n",
    "\n",
    "\n",
    "def checkParityOfString(words):\n",
    "    isWordEven = [False] * len(words)\n",
    "\n",
    "    # check the parity of each multiplication (word)\n",
    "    for i, word in enumerate(words):\n",
    "        isEven = False\n",
    "        for letter in word:\n",
    "            if ord(letter) % 2 == 0:\n",
    "                isEven = True\n",
    "                break\n",
    "        isWordEven[i] = isEven\n",
    "    \n",
    "    # check the parity of the sum of all the mutiplication\n",
    "    numOddSummandMod2 = 0\n",
    "    for isEven in isWordEven:\n",
    "        if not isEven:\n",
    "            numOddSummandMod2 = 1 - 0\n",
    "        \n",
    "    if numOddSummandMod2 == 0: return \"EVEN\"\n",
    "    if numOddSummandMod2 == 1: return \"ODD\""
   ]
  },
  {
   "cell_type": "markdown",
   "metadata": {},
   "source": [
    "### Longest Subarray having sum of elements atmost K\n",
    "- https://www.geeksforgeeks.org/longest-subarray-sum-elements-atmost-k/\n",
    "- Simple sliding window technique"
   ]
  },
  {
   "cell_type": "code",
   "execution_count": null,
   "metadata": {},
   "outputs": [
    {
     "name": "stdout",
     "output_type": "stream",
     "text": [
      "5\n"
     ]
    }
   ],
   "source": [
    "def longestSubarry(arr, k):\n",
    "    left, right = 0, 0 # the current window [left, right)\n",
    "    curSum = 0\n",
    "    maxLen = 0\n",
    "\n",
    "    while right < len(arr):\n",
    "        # move right by one\n",
    "        curSum += arr[right]\n",
    "        right += 1\n",
    "\n",
    "        # move left to restore the window\n",
    "        while curSum > k:\n",
    "            curSum -= arr[left]\n",
    "            left += 1\n",
    "        \n",
    "        # now window is valid document the length\n",
    "        maxLen = max(maxLen, right - left)\n",
    "    \n",
    "    return maxLen\n",
    "        \n",
    "print(longestSubarry([1, 2, 1, 0, 1, 1, 0], 4))"
   ]
  }
 ],
 "metadata": {
  "kernelspec": {
   "display_name": "Python 3.10.2 64-bit",
   "language": "python",
   "name": "python3"
  },
  "language_info": {
   "codemirror_mode": {
    "name": "ipython",
    "version": 3
   },
   "file_extension": ".py",
   "mimetype": "text/x-python",
   "name": "python",
   "nbconvert_exporter": "python",
   "pygments_lexer": "ipython3",
   "version": "3.10.2"
  },
  "orig_nbformat": 4,
  "vscode": {
   "interpreter": {
    "hash": "aee8b7b246df8f9039afb4144a1f6fd8d2ca17a180786b69acc140d282b71a49"
   }
  }
 },
 "nbformat": 4,
 "nbformat_minor": 2
}
