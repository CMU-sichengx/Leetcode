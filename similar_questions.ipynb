{
 "cells": [
  {
   "cell_type": "markdown",
   "metadata": {},
   "source": [
    "2Sum XXXX\n",
    "Easy \n",
    "\n",
    "3Sum  XXXX\n",
    "Medium\n",
    "\n",
    "4Sum  XXXX\n",
    "Medium\n",
    "\n",
    "4SUM II XXXX\n",
    "Medium\n",
    "\n",
    "Two Sum II - Input Array Is Sorted  XXXX\n",
    "Medium\n",
    "\n",
    "Two Sum III - Data structure design XXXX\n",
    "Easy\n",
    "\n",
    "Subarray Sum Equals K XXXX\n",
    "Medium\n",
    "\n",
    "Two Sum IV - Input is a BST XXX\n",
    "Easy\n",
    "\n",
    "Two Sum Less Than K XXXX\n",
    "Easy\n",
    "\n",
    "Max Number of K-Sum Pairs XXXX\n",
    "Medium\n",
    "\n",
    "Count Good Meals\n",
    "Medium\n",
    "\n",
    "Count Number of Pairs With Absolute Difference K\n",
    "Easy\n",
    "\n",
    "Number of Pairs of Strings With Concatenation Equal to Target\n",
    "Medium\n",
    "\n",
    "Find All K-Distant Indices in an Array\n",
    "Easy"
   ]
  },
  {
   "cell_type": "markdown",
   "metadata": {},
   "source": [
    "Sliding Window\n",
    " - 3. Longest Substring Without Repeating Char"
   ]
  }
 ],
 "metadata": {
  "language_info": {
   "name": "python"
  },
  "orig_nbformat": 4
 },
 "nbformat": 4,
 "nbformat_minor": 2
}
